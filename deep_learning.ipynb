{
 "cells": [
  {
   "cell_type": "code",
   "execution_count": 1,
   "metadata": {},
   "outputs": [
    {
     "name": "stderr",
     "output_type": "stream",
     "text": [
      "100%|██████████| 1000/1000 [00:14<00:00, 69.69it/s]\n"
     ]
    },
    {
     "name": "stdout",
     "output_type": "stream",
     "text": [
      "0.499\n"
     ]
    },
    {
     "data": {
      "image/png": "[encoded data removed]",
      "text/plain": [
       "<Figure size 640x480 with 1 Axes>"
      ]
     },
     "metadata": {},
     "output_type": "display_data"
    }
   ],
   "source": [
    "from os import chdir\n",
    "\n",
    "import matplotlib.pyplot as plt\n",
    "import numpy as np\n",
    "import h5py\n",
    "from sklearn.metrics import accuracy_score\n",
    "from tqdm import tqdm\n",
    "\n",
    "def initialisation(X):\n",
    "    W = np.random.randn(X.shape[1], 1)\n",
    "    b = np.random.randn(1)\n",
    "    return (W, b)\n",
    "def model(X, W, b):\n",
    "    Z = X.dot(W) + b\n",
    "    A = 1 / (1 + np.exp(-Z))\n",
    "    return A\n",
    "def log_loss(A, y, epsilon=1e-15):\n",
    "    return 1 / len(y) * np.sum(-y * np.log(A + epsilon) - (1 - y) * np.log(1 - A + epsilon))\n",
    "def gradiens(A, X, y):\n",
    "    dW = 1 / len(y) * np.dot(X.T, A - y)\n",
    "    db = 1 / len(y) * np.sum(A - y)\n",
    "    return (dW, db)\n",
    "def update(dW, db, W, b, learing_rate):\n",
    "    W = W - learing_rate * dW\n",
    "    b = b - learing_rate * db\n",
    "    return (W, b)\n",
    "\n",
    "def artificial_neuron(X, y, learing_rate=0.1, n_iter=1000):\n",
    "    W, b = initialisation(X)\n",
    "    loss = []\n",
    "    for _ in tqdm(range(n_iter)):\n",
    "        A = model(X, W, b)\n",
    "        if _ % 10:\n",
    "            loss.append(log_loss(A, y))\n",
    "        dW, db = gradiens(A, X, y)\n",
    "        W, b = update(dW, db, W, b, learing_rate)\n",
    "    y_pred = predict(X, W, b)\n",
    "    print(accuracy_score(y, y_pred))\n",
    "    plt.plot(loss) ; plt.show()\n",
    "    return (W, b)\n",
    "def predict(X, W, b):\n",
    "    A = model(X, W, b)\n",
    "    # print(A*100)\n",
    "    return A >= 0.5\n",
    "def load_data():\n",
    "    train_dataset = h5py.File('datasets/trainset.hdf5', \"r\")\n",
    "    X_train = np.array(train_dataset[\"X_train\"][:]) # your train set features\n",
    "    y_train = np.array(train_dataset[\"Y_train\"][:]) # your train set labels\n",
    "    test_dataset = h5py.File('datasets/testset.hdf5', \"r\")\n",
    "    X_test = np.array(test_dataset[\"X_test\"][:]) # your train set features\n",
    "    y_test = np.array(test_dataset[\"Y_test\"][:]) # your train set labels\n",
    "    return X_train, y_train, X_test, y_test\n",
    "\n",
    "chdir(\"/media/maelien/WEBER/prgm/Python/deep_learning\")\n",
    "(X_train, y_train, X_test, y_test) = load_data()\n",
    "X_train = X_train.reshape(X_train.shape[0], -1) / X_train.max()\n",
    "X_test = X_test.reshape(X_test.shape[0], -1) / X_train.max()\n",
    "\n",
    "(W, b) = artificial_neuron(X_train, y_train, learing_rate=0.01)\n"
   ]
  },
  {
   "cell_type": "code",
   "execution_count": null,
   "metadata": {},
   "outputs": [],
   "source": []
  },
  {
   "cell_type": "code",
   "execution_count": null,
   "metadata": {},
   "outputs": [],
   "source": []
  },
  {
   "cell_type": "code",
   "execution_count": null,
   "metadata": {},
   "outputs": [],
   "source": []
  }
 ],
 "metadata": {
  "kernelspec": {
   "display_name": "Python 3",
   "language": "python",
   "name": "python3"
  },
  "language_info": {
   "codemirror_mode": {
    "name": "ipython",
    "version": 3
   },
   "file_extension": ".py",
   "mimetype": "text/x-python",
   "name": "python",
   "nbconvert_exporter": "python",
   "pygments_lexer": "ipython3",
   "version": "3.10.6"
  },
  "orig_nbformat": 4,
  "vscode": {
   "interpreter": {
    "hash": "916dbcbb3f70747c44a77c7bcd40155683ae19c65e1c03b4aa3499c5328201f1"
   }
  }
 },
 "nbformat": 4,
 "nbformat_minor": 2
}
